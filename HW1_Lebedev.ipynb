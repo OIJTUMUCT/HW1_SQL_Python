{
 "cells": [
  {
   "cell_type": "code",
   "execution_count": 73,
   "metadata": {},
   "outputs": [
    {
     "name": "stdout",
     "output_type": "stream",
     "text": [
      "Requirement already satisfied: psycopg2 in c:\\users\\gogco\\appdata\\local\\packages\\pythonsoftwarefoundation.python.3.11_qbz5n2kfra8p0\\localcache\\local-packages\\python311\\site-packages (2.9.10)\n",
      "Note: you may need to restart the kernel to use updated packages.\n"
     ]
    },
    {
     "name": "stderr",
     "output_type": "stream",
     "text": [
      "\n",
      "[notice] A new release of pip is available: 24.0 -> 25.0\n",
      "[notice] To update, run: C:\\Users\\gogco\\AppData\\Local\\Microsoft\\WindowsApps\\PythonSoftwareFoundation.Python.3.11_qbz5n2kfra8p0\\python.exe -m pip install --upgrade pip\n"
     ]
    },
    {
     "name": "stdout",
     "output_type": "stream",
     "text": [
      "Requirement already satisfied: nbformat in c:\\users\\gogco\\appdata\\local\\packages\\pythonsoftwarefoundation.python.3.11_qbz5n2kfra8p0\\localcache\\local-packages\\python311\\site-packages (5.10.4)\n",
      "Requirement already satisfied: fastjsonschema>=2.15 in c:\\users\\gogco\\appdata\\local\\packages\\pythonsoftwarefoundation.python.3.11_qbz5n2kfra8p0\\localcache\\local-packages\\python311\\site-packages (from nbformat) (2.21.1)\n",
      "Requirement already satisfied: jsonschema>=2.6 in c:\\users\\gogco\\appdata\\local\\packages\\pythonsoftwarefoundation.python.3.11_qbz5n2kfra8p0\\localcache\\local-packages\\python311\\site-packages (from nbformat) (4.23.0)\n",
      "Requirement already satisfied: jupyter-core!=5.0.*,>=4.12 in c:\\users\\gogco\\appdata\\local\\packages\\pythonsoftwarefoundation.python.3.11_qbz5n2kfra8p0\\localcache\\local-packages\\python311\\site-packages (from nbformat) (5.7.2)\n",
      "Requirement already satisfied: traitlets>=5.1 in c:\\users\\gogco\\appdata\\local\\packages\\pythonsoftwarefoundation.python.3.11_qbz5n2kfra8p0\\localcache\\local-packages\\python311\\site-packages (from nbformat) (5.14.3)\n",
      "Requirement already satisfied: attrs>=22.2.0 in c:\\users\\gogco\\appdata\\local\\packages\\pythonsoftwarefoundation.python.3.11_qbz5n2kfra8p0\\localcache\\local-packages\\python311\\site-packages (from jsonschema>=2.6->nbformat) (24.2.0)\n",
      "Requirement already satisfied: jsonschema-specifications>=2023.03.6 in c:\\users\\gogco\\appdata\\local\\packages\\pythonsoftwarefoundation.python.3.11_qbz5n2kfra8p0\\localcache\\local-packages\\python311\\site-packages (from jsonschema>=2.6->nbformat) (2024.10.1)\n",
      "Requirement already satisfied: referencing>=0.28.4 in c:\\users\\gogco\\appdata\\local\\packages\\pythonsoftwarefoundation.python.3.11_qbz5n2kfra8p0\\localcache\\local-packages\\python311\\site-packages (from jsonschema>=2.6->nbformat) (0.35.1)\n",
      "Requirement already satisfied: rpds-py>=0.7.1 in c:\\users\\gogco\\appdata\\local\\packages\\pythonsoftwarefoundation.python.3.11_qbz5n2kfra8p0\\localcache\\local-packages\\python311\\site-packages (from jsonschema>=2.6->nbformat) (0.22.3)\n",
      "Requirement already satisfied: platformdirs>=2.5 in c:\\users\\gogco\\appdata\\local\\packages\\pythonsoftwarefoundation.python.3.11_qbz5n2kfra8p0\\localcache\\local-packages\\python311\\site-packages (from jupyter-core!=5.0.*,>=4.12->nbformat) (4.3.6)\n",
      "Requirement already satisfied: pywin32>=300 in c:\\users\\gogco\\appdata\\local\\packages\\pythonsoftwarefoundation.python.3.11_qbz5n2kfra8p0\\localcache\\local-packages\\python311\\site-packages (from jupyter-core!=5.0.*,>=4.12->nbformat) (308)\n",
      "Note: you may need to restart the kernel to use updated packages.\n"
     ]
    },
    {
     "name": "stderr",
     "output_type": "stream",
     "text": [
      "\n",
      "[notice] A new release of pip is available: 24.0 -> 25.0\n",
      "[notice] To update, run: C:\\Users\\gogco\\AppData\\Local\\Microsoft\\WindowsApps\\PythonSoftwareFoundation.Python.3.11_qbz5n2kfra8p0\\python.exe -m pip install --upgrade pip\n"
     ]
    }
   ],
   "source": [
    "%pip install psycopg2\n",
    "%pip install nbformat"
   ]
  },
  {
   "cell_type": "code",
   "execution_count": 74,
   "metadata": {},
   "outputs": [],
   "source": [
    "import nbformat\n",
    "import psycopg2 as pg\n",
    "import pandas as pd"
   ]
  },
  {
   "cell_type": "markdown",
   "metadata": {},
   "source": [
    "### Введите данные для подключения к существующей или создание новой БД"
   ]
  },
  {
   "cell_type": "code",
   "execution_count": 75,
   "metadata": {},
   "outputs": [],
   "source": [
    "DB_NAME = \"stages\"\n",
    "DB_USER = \"postgres\"\n",
    "DB_PASSWORD = \"\"\n",
    "DB_HOST = \"localhost\"\n",
    "DB_PORT = \"5433\""
   ]
  },
  {
   "cell_type": "code",
   "execution_count": 76,
   "metadata": {},
   "outputs": [],
   "source": [
    "# подключение к системной БД\n",
    "conn = pg.connect(\n",
    "    dbname=\"postgres\",\n",
    "    user=DB_USER,\n",
    "    password=DB_PASSWORD,\n",
    "    host=DB_HOST,\n",
    "    port=DB_PORT\n",
    ")\n",
    "conn.autocommit = True\n",
    "cur = conn.cursor()"
   ]
  },
  {
   "cell_type": "code",
   "execution_count": 77,
   "metadata": {},
   "outputs": [
    {
     "name": "stdout",
     "output_type": "stream",
     "text": [
      "База данных stages уже существует.\n"
     ]
    }
   ],
   "source": [
    "# попытка создания БД с указанным именем\n",
    "cur.execute(f\"SELECT 1 FROM pg_database WHERE datname = '{DB_NAME}';\")\n",
    "if not cur.fetchone():\n",
    "    cur.execute(f\"create database {DB_NAME} with owner = {DB_USER};\")\n",
    "    print(f\"База данных {DB_NAME} успешно создана!\")\n",
    "else:\n",
    "    print(f\"База данных {DB_NAME} уже существует.\")\n",
    "cur.close()\n",
    "conn.close()"
   ]
  },
  {
   "cell_type": "code",
   "execution_count": 78,
   "metadata": {},
   "outputs": [],
   "source": [
    "# подключение к существующей или созданной БД\n",
    "conn = pg.connect(\n",
    "    dbname=DB_NAME,\n",
    "    user=DB_USER,\n",
    "    password=DB_PASSWORD,\n",
    "    host=DB_HOST,\n",
    "    port=DB_PORT\n",
    ")\n",
    "cur = conn.cursor()"
   ]
  },
  {
   "cell_type": "markdown",
   "metadata": {},
   "source": [
    "### Создание таблиц и отношений БД SQL-запросом"
   ]
  },
  {
   "cell_type": "code",
   "execution_count": 79,
   "metadata": {},
   "outputs": [
    {
     "name": "stdout",
     "output_type": "stream",
     "text": [
      "Таблицы успешно созданы!\n"
     ]
    }
   ],
   "source": [
    "try:\n",
    "    with open(\"schema.sql\", \"r\", encoding=\"utf-8\") as f:\n",
    "        sql_script = f.read()\n",
    "    cur.execute(sql_script)\n",
    "    conn.commit()\n",
    "\n",
    "    # проверка, создались ли таблицы\n",
    "    cur.execute(\"SELECT table_name FROM information_schema.tables WHERE table_schema = 'public';\")\n",
    "    tables = cur.fetchall()\n",
    "\n",
    "    if tables:\n",
    "        print(\"Таблицы успешно созданы!\")\n",
    "    else:\n",
    "        print(\"Ошибка: таблицы не были созданы!\")\n",
    "\n",
    "except Exception as e:\n",
    "    print(f\"Ошибка при создании таблиц: {e}\")\n",
    "    conn.rollback()  # откат изменений, если была ошибка"
   ]
  },
  {
   "cell_type": "markdown",
   "metadata": {},
   "source": [
    "### > Выполнить preprocess_data.ipynb"
   ]
  },
  {
   "cell_type": "code",
   "execution_count": 80,
   "metadata": {},
   "outputs": [
    {
     "name": "stdout",
     "output_type": "stream",
     "text": [
      "Дубликаты строк таблицы products_df = 19896\n",
      "Дубликаты строк таблицы products_df после очистки = 0\n",
      "Создан файл: product.csv\n",
      "Создан файл: transaction.csv\n",
      "Дубликаты строк таблицы address_df = 0\n",
      "Дубликаты строк таблицы address_df после очистки = 0\n",
      "Создан файл: address.csv\n",
      "Дубликаты строк таблицы financial_situation_df = 0\n",
      "Дубликаты строк таблицы financial_situation_df после очистки = 0\n",
      "Создан файл: financial_situation.csv\n",
      "Создан файл: customer.csv\n"
     ]
    }
   ],
   "source": [
    "# генерирует таблицы (файлы.csv) для дальнейшей заливки в БД\n",
    "notebook_filename = \"preprocess_data.ipynb\"\n",
    "\n",
    "with open(notebook_filename, \"r\", encoding=\"utf-8\") as f:\n",
    "    notebook = nbformat.read(f, as_version=4)\n",
    "\n",
    "for cell in notebook.cells:\n",
    "    if cell.cell_type == \"code\":\n",
    "        exec(cell.source)"
   ]
  },
  {
   "cell_type": "code",
   "execution_count": 81,
   "metadata": {},
   "outputs": [],
   "source": [
    "# функция загрузки CSV в PostgreSQL\n",
    "def load_csv_to_postgres(cur, csv_path, table_name):\n",
    "    df = pd.read_csv(csv_path)\n",
    "    # открытие файла и загрузка в PostgreSQL\n",
    "    with open(csv_path, 'r', encoding='utf-8') as f:\n",
    "        next(f)  # пропуск заголовков\n",
    "        try:\n",
    "            cur.copy_from(f, table_name, sep=',', null='')\n",
    "            conn.commit()\n",
    "            print(f\"Данные из {csv_path} загружены в {table_name}\")\n",
    "        except Exception as e:\n",
    "            conn.rollback()\n",
    "            print(f\"Ошибка при загрузке {csv_path} в {table_name}: {e}\")"
   ]
  },
  {
   "cell_type": "code",
   "execution_count": 82,
   "metadata": {},
   "outputs": [
    {
     "name": "stdout",
     "output_type": "stream",
     "text": [
      "Данные из data/customer.csv загружены в customer\n",
      "Данные из data/financial_situation.csv загружены в financial_situation\n",
      "Данные из data/address.csv загружены в address\n",
      "Данные из data/product.csv загружены в product\n",
      "Данные из data/transaction.csv загружены в transaction\n"
     ]
    }
   ],
   "source": [
    "# загрузка данных в таблицы (порядок загрузки индивидуален в соответствии со схемой)\n",
    "load_csv_to_postgres(cur, \"data/customer.csv\", \"customer\")\n",
    "load_csv_to_postgres(cur, \"data/financial_situation.csv\", \"financial_situation\")\n",
    "load_csv_to_postgres(cur, \"data/address.csv\", \"address\")\n",
    "load_csv_to_postgres(cur, \"data/product.csv\", \"product\")\n",
    "load_csv_to_postgres(cur, \"data/transaction.csv\", \"transaction\")\n",
    "\n",
    "cur.close()\n",
    "conn.close()"
   ]
  }
 ],
 "metadata": {
  "kernelspec": {
   "display_name": "Python 3",
   "language": "python",
   "name": "python3"
  },
  "language_info": {
   "codemirror_mode": {
    "name": "ipython",
    "version": 3
   },
   "file_extension": ".py",
   "mimetype": "text/x-python",
   "name": "python",
   "nbconvert_exporter": "python",
   "pygments_lexer": "ipython3",
   "version": "3.11.9"
  }
 },
 "nbformat": 4,
 "nbformat_minor": 2
}
